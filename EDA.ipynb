{
 "cells": [
  {
   "cell_type": "code",
   "execution_count": 1,
   "metadata": {},
   "outputs": [],
   "source": [
    "import pandas as pd\n",
    "\n",
    "campaigns = pd.read_csv('CampaignHistory.csv', parse_dates=['Email Sent Date'])\n",
    "applications = pd.read_csv('ApplicationData.csv', parse_dates=['Application Start  Date'])"
   ]
  },
  {
   "cell_type": "code",
   "execution_count": 35,
   "metadata": {},
   "outputs": [
    {
     "data": {
      "text/html": [
       "<div>\n",
       "<style scoped>\n",
       "    .dataframe tbody tr th:only-of-type {\n",
       "        vertical-align: middle;\n",
       "    }\n",
       "\n",
       "    .dataframe tbody tr th {\n",
       "        vertical-align: top;\n",
       "    }\n",
       "\n",
       "    .dataframe thead th {\n",
       "        text-align: right;\n",
       "    }\n",
       "</style>\n",
       "<table border=\"1\" class=\"dataframe\">\n",
       "  <thead>\n",
       "    <tr style=\"text-align: right;\">\n",
       "      <th></th>\n",
       "      <th>Company ID</th>\n",
       "      <th>Creative</th>\n",
       "      <th>Email Sent Date</th>\n",
       "      <th>application_start_date</th>\n",
       "      <th>started_application</th>\n",
       "      <th>finished_application</th>\n",
       "      <th>Loan Offer</th>\n",
       "      <th>Loan Accepted</th>\n",
       "      <th>Loan Amount</th>\n",
       "      <th>Amount Requested</th>\n",
       "      <th>application_month</th>\n",
       "      <th>stared_application</th>\n",
       "    </tr>\n",
       "  </thead>\n",
       "  <tbody>\n",
       "    <tr>\n",
       "      <th>0</th>\n",
       "      <td>446140</td>\n",
       "      <td>Default Creative</td>\n",
       "      <td>2018-02-01</td>\n",
       "      <td>NaT</td>\n",
       "      <td>0.0</td>\n",
       "      <td>NaN</td>\n",
       "      <td>NaN</td>\n",
       "      <td>NaN</td>\n",
       "      <td>NaN</td>\n",
       "      <td>NaN</td>\n",
       "      <td>NaT</td>\n",
       "      <td>None</td>\n",
       "    </tr>\n",
       "    <tr>\n",
       "      <th>1</th>\n",
       "      <td>354516</td>\n",
       "      <td>Default Creative</td>\n",
       "      <td>2018-02-01</td>\n",
       "      <td>NaT</td>\n",
       "      <td>0.0</td>\n",
       "      <td>NaN</td>\n",
       "      <td>NaN</td>\n",
       "      <td>NaN</td>\n",
       "      <td>NaN</td>\n",
       "      <td>NaN</td>\n",
       "      <td>NaT</td>\n",
       "      <td>None</td>\n",
       "    </tr>\n",
       "    <tr>\n",
       "      <th>2</th>\n",
       "      <td>128643</td>\n",
       "      <td>Default Creative</td>\n",
       "      <td>2018-02-01</td>\n",
       "      <td>NaT</td>\n",
       "      <td>0.0</td>\n",
       "      <td>NaN</td>\n",
       "      <td>NaN</td>\n",
       "      <td>NaN</td>\n",
       "      <td>NaN</td>\n",
       "      <td>NaN</td>\n",
       "      <td>NaT</td>\n",
       "      <td>None</td>\n",
       "    </tr>\n",
       "    <tr>\n",
       "      <th>3</th>\n",
       "      <td>232285</td>\n",
       "      <td>Default Creative</td>\n",
       "      <td>2018-02-01</td>\n",
       "      <td>NaT</td>\n",
       "      <td>0.0</td>\n",
       "      <td>NaN</td>\n",
       "      <td>NaN</td>\n",
       "      <td>NaN</td>\n",
       "      <td>NaN</td>\n",
       "      <td>NaN</td>\n",
       "      <td>NaT</td>\n",
       "      <td>None</td>\n",
       "    </tr>\n",
       "    <tr>\n",
       "      <th>4</th>\n",
       "      <td>239789</td>\n",
       "      <td>Default Creative</td>\n",
       "      <td>2018-02-01</td>\n",
       "      <td>NaT</td>\n",
       "      <td>0.0</td>\n",
       "      <td>NaN</td>\n",
       "      <td>NaN</td>\n",
       "      <td>NaN</td>\n",
       "      <td>NaN</td>\n",
       "      <td>NaN</td>\n",
       "      <td>NaT</td>\n",
       "      <td>None</td>\n",
       "    </tr>\n",
       "  </tbody>\n",
       "</table>\n",
       "</div>"
      ],
      "text/plain": [
       "   Company ID          Creative Email Sent Date application_start_date  \\\n",
       "0      446140  Default Creative      2018-02-01                    NaT   \n",
       "1      354516  Default Creative      2018-02-01                    NaT   \n",
       "2      128643  Default Creative      2018-02-01                    NaT   \n",
       "3      232285  Default Creative      2018-02-01                    NaT   \n",
       "4      239789  Default Creative      2018-02-01                    NaT   \n",
       "\n",
       "   started_application  finished_application  Loan Offer  Loan Accepted  \\\n",
       "0                  0.0                   NaN         NaN            NaN   \n",
       "1                  0.0                   NaN         NaN            NaN   \n",
       "2                  0.0                   NaN         NaN            NaN   \n",
       "3                  0.0                   NaN         NaN            NaN   \n",
       "4                  0.0                   NaN         NaN            NaN   \n",
       "\n",
       "   Loan Amount  Amount Requested application_month stared_application  \n",
       "0          NaN               NaN               NaT               None  \n",
       "1          NaN               NaN               NaT               None  \n",
       "2          NaN               NaN               NaT               None  \n",
       "3          NaN               NaN               NaT               None  \n",
       "4          NaN               NaN               NaT               None  "
      ]
     },
     "execution_count": 35,
     "metadata": {},
     "output_type": "execute_result"
    }
   ],
   "source": [
    "campaign_applications.head()"
   ]
  },
  {
   "cell_type": "code",
   "execution_count": 2,
   "metadata": {},
   "outputs": [
    {
     "data": {
      "text/plain": [
       "array([1])"
      ]
     },
     "execution_count": 2,
     "metadata": {},
     "output_type": "execute_result"
    }
   ],
   "source": [
    "#all company_ids in applications have started applications\n",
    "applications['Started Application'].unique()"
   ]
  },
  {
   "cell_type": "code",
   "execution_count": 3,
   "metadata": {},
   "outputs": [
    {
     "name": "stderr",
     "output_type": "stream",
     "text": [
      "/Users/Xinny/PycharmProjects/funding_circle_analysis/venv/lib/python3.6/site-packages/pandas/core/indexing.py:202: SettingWithCopyWarning: \n",
      "A value is trying to be set on a copy of a slice from a DataFrame\n",
      "\n",
      "See the caveats in the documentation: http://pandas.pydata.org/pandas-docs/stable/user_guide/indexing.html#returning-a-view-versus-a-copy\n",
      "  self._setitem_with_indexer(indexer, value)\n"
     ]
    },
    {
     "data": {
      "text/html": [
       "<div>\n",
       "<style scoped>\n",
       "    .dataframe tbody tr th:only-of-type {\n",
       "        vertical-align: middle;\n",
       "    }\n",
       "\n",
       "    .dataframe tbody tr th {\n",
       "        vertical-align: top;\n",
       "    }\n",
       "\n",
       "    .dataframe thead th {\n",
       "        text-align: right;\n",
       "    }\n",
       "</style>\n",
       "<table border=\"1\" class=\"dataframe\">\n",
       "  <thead>\n",
       "    <tr style=\"text-align: right;\">\n",
       "      <th></th>\n",
       "      <th></th>\n",
       "      <th>Company ID</th>\n",
       "    </tr>\n",
       "    <tr>\n",
       "      <th>Creative</th>\n",
       "      <th>Email Sent Date</th>\n",
       "      <th></th>\n",
       "    </tr>\n",
       "  </thead>\n",
       "  <tbody>\n",
       "    <tr>\n",
       "      <th>Alternative Creative</th>\n",
       "      <th>2018-03-01</th>\n",
       "      <td>1949</td>\n",
       "    </tr>\n",
       "    <tr>\n",
       "      <th rowspan=\"2\" valign=\"top\">Default Creative</th>\n",
       "      <th>2018-02-01</th>\n",
       "      <td>1876</td>\n",
       "    </tr>\n",
       "    <tr>\n",
       "      <th>2018-04-01</th>\n",
       "      <td>1579</td>\n",
       "    </tr>\n",
       "  </tbody>\n",
       "</table>\n",
       "</div>"
      ],
      "text/plain": [
       "                                      Company ID\n",
       "Creative             Email Sent Date            \n",
       "Alternative Creative 2018-03-01             1949\n",
       "Default Creative     2018-02-01             1876\n",
       "                     2018-04-01             1579"
      ]
     },
     "execution_count": 3,
     "metadata": {},
     "output_type": "execute_result"
    }
   ],
   "source": [
    "campaigns.Creative.loc[campaigns.Creative =='Alternative Creative ']='Alternative Creative'\n",
    "\n",
    "#Number of campaign emails sent on each date\n",
    "campaigns.groupby(['Creative', 'Email Sent Date']).agg({'Company ID':'count'})"
   ]
  },
  {
   "cell_type": "code",
   "execution_count": 4,
   "metadata": {},
   "outputs": [
    {
     "data": {
      "text/plain": [
       "5404"
      ]
     },
     "execution_count": 4,
     "metadata": {},
     "output_type": "execute_result"
    }
   ],
   "source": [
    "# all users were only exposed to one --> eliminates relative order sensitivity\n",
    "campaigns['Company ID'].nunique()"
   ]
  },
  {
   "cell_type": "code",
   "execution_count": 5,
   "metadata": {},
   "outputs": [
    {
     "data": {
      "text/html": [
       "<div>\n",
       "<style scoped>\n",
       "    .dataframe tbody tr th:only-of-type {\n",
       "        vertical-align: middle;\n",
       "    }\n",
       "\n",
       "    .dataframe tbody tr th {\n",
       "        vertical-align: top;\n",
       "    }\n",
       "\n",
       "    .dataframe thead th {\n",
       "        text-align: right;\n",
       "    }\n",
       "</style>\n",
       "<table border=\"1\" class=\"dataframe\">\n",
       "  <thead>\n",
       "    <tr style=\"text-align: right;\">\n",
       "      <th></th>\n",
       "      <th>application_month</th>\n",
       "      <th>Company ID</th>\n",
       "      <th>started_application</th>\n",
       "      <th>finished_application</th>\n",
       "      <th>Loan Offer</th>\n",
       "      <th>Loan Accepted</th>\n",
       "    </tr>\n",
       "  </thead>\n",
       "  <tbody>\n",
       "    <tr>\n",
       "      <th>0</th>\n",
       "      <td>2018-01</td>\n",
       "      <td>18</td>\n",
       "      <td>18</td>\n",
       "      <td>11.0</td>\n",
       "      <td>10.0</td>\n",
       "      <td>6.0</td>\n",
       "    </tr>\n",
       "    <tr>\n",
       "      <th>1</th>\n",
       "      <td>2018-02</td>\n",
       "      <td>123</td>\n",
       "      <td>123</td>\n",
       "      <td>73.0</td>\n",
       "      <td>54.0</td>\n",
       "      <td>39.0</td>\n",
       "    </tr>\n",
       "    <tr>\n",
       "      <th>2</th>\n",
       "      <td>2018-03</td>\n",
       "      <td>90</td>\n",
       "      <td>90</td>\n",
       "      <td>62.0</td>\n",
       "      <td>48.0</td>\n",
       "      <td>40.0</td>\n",
       "    </tr>\n",
       "    <tr>\n",
       "      <th>3</th>\n",
       "      <td>2018-04</td>\n",
       "      <td>115</td>\n",
       "      <td>115</td>\n",
       "      <td>73.0</td>\n",
       "      <td>53.0</td>\n",
       "      <td>43.0</td>\n",
       "    </tr>\n",
       "    <tr>\n",
       "      <th>4</th>\n",
       "      <td>2018-05</td>\n",
       "      <td>108</td>\n",
       "      <td>108</td>\n",
       "      <td>64.0</td>\n",
       "      <td>48.0</td>\n",
       "      <td>40.0</td>\n",
       "    </tr>\n",
       "    <tr>\n",
       "      <th>5</th>\n",
       "      <td>2018-06</td>\n",
       "      <td>21</td>\n",
       "      <td>21</td>\n",
       "      <td>16.0</td>\n",
       "      <td>14.0</td>\n",
       "      <td>10.0</td>\n",
       "    </tr>\n",
       "    <tr>\n",
       "      <th>6</th>\n",
       "      <td>2018-07</td>\n",
       "      <td>18</td>\n",
       "      <td>18</td>\n",
       "      <td>16.0</td>\n",
       "      <td>13.0</td>\n",
       "      <td>10.0</td>\n",
       "    </tr>\n",
       "    <tr>\n",
       "      <th>7</th>\n",
       "      <td>2018-08</td>\n",
       "      <td>9</td>\n",
       "      <td>9</td>\n",
       "      <td>5.0</td>\n",
       "      <td>2.0</td>\n",
       "      <td>2.0</td>\n",
       "    </tr>\n",
       "    <tr>\n",
       "      <th>8</th>\n",
       "      <td>2018-09</td>\n",
       "      <td>8</td>\n",
       "      <td>8</td>\n",
       "      <td>6.0</td>\n",
       "      <td>4.0</td>\n",
       "      <td>3.0</td>\n",
       "    </tr>\n",
       "    <tr>\n",
       "      <th>9</th>\n",
       "      <td>2018-10</td>\n",
       "      <td>13</td>\n",
       "      <td>13</td>\n",
       "      <td>10.0</td>\n",
       "      <td>8.0</td>\n",
       "      <td>7.0</td>\n",
       "    </tr>\n",
       "    <tr>\n",
       "      <th>10</th>\n",
       "      <td>2018-11</td>\n",
       "      <td>2</td>\n",
       "      <td>2</td>\n",
       "      <td>0.0</td>\n",
       "      <td>0.0</td>\n",
       "      <td>0.0</td>\n",
       "    </tr>\n",
       "    <tr>\n",
       "      <th>11</th>\n",
       "      <td>2018-12</td>\n",
       "      <td>3</td>\n",
       "      <td>3</td>\n",
       "      <td>3.0</td>\n",
       "      <td>2.0</td>\n",
       "      <td>1.0</td>\n",
       "    </tr>\n",
       "  </tbody>\n",
       "</table>\n",
       "</div>"
      ],
      "text/plain": [
       "   application_month  Company ID  started_application  finished_application  \\\n",
       "0            2018-01          18                   18                  11.0   \n",
       "1            2018-02         123                  123                  73.0   \n",
       "2            2018-03          90                   90                  62.0   \n",
       "3            2018-04         115                  115                  73.0   \n",
       "4            2018-05         108                  108                  64.0   \n",
       "5            2018-06          21                   21                  16.0   \n",
       "6            2018-07          18                   18                  16.0   \n",
       "7            2018-08           9                    9                   5.0   \n",
       "8            2018-09           8                    8                   6.0   \n",
       "9            2018-10          13                   13                  10.0   \n",
       "10           2018-11           2                    2                   0.0   \n",
       "11           2018-12           3                    3                   3.0   \n",
       "\n",
       "    Loan Offer  Loan Accepted  \n",
       "0         10.0            6.0  \n",
       "1         54.0           39.0  \n",
       "2         48.0           40.0  \n",
       "3         53.0           43.0  \n",
       "4         48.0           40.0  \n",
       "5         14.0           10.0  \n",
       "6         13.0           10.0  \n",
       "7          2.0            2.0  \n",
       "8          4.0            3.0  \n",
       "9          8.0            7.0  \n",
       "10         0.0            0.0  \n",
       "11         2.0            1.0  "
      ]
     },
     "execution_count": 5,
     "metadata": {},
     "output_type": "execute_result"
    }
   ],
   "source": [
    "# renaming columns\n",
    "applications = applications.rename(columns={'Application Start  Date':'application_start_date', \n",
    "                                            'Fully Completed Application':'finished_application',\n",
    "                                           'Started Application': 'started_application'})\n",
    "#adding month col to applications\n",
    "applications['application_month'] = applications['application_start_date'].dt.to_period('M')\n",
    "\n",
    "#applications by month\n",
    "applications_by_month = applications.groupby(['application_month']).agg({'Company ID':'count',\n",
    "                                                                         'started_application':'sum', \n",
    "                                                                         'finished_application':'sum', \n",
    "                                                                          'Loan Offer': 'sum', \n",
    "                                                                          'Loan Accepted':'sum'}).reset_index()\n",
    "applications_by_month"
   ]
  },
  {
   "cell_type": "code",
   "execution_count": 6,
   "metadata": {},
   "outputs": [
    {
     "data": {
      "text/html": [
       "<div>\n",
       "<style scoped>\n",
       "    .dataframe tbody tr th:only-of-type {\n",
       "        vertical-align: middle;\n",
       "    }\n",
       "\n",
       "    .dataframe tbody tr th {\n",
       "        vertical-align: top;\n",
       "    }\n",
       "\n",
       "    .dataframe thead th {\n",
       "        text-align: right;\n",
       "    }\n",
       "</style>\n",
       "<table border=\"1\" class=\"dataframe\">\n",
       "  <thead>\n",
       "    <tr style=\"text-align: right;\">\n",
       "      <th></th>\n",
       "      <th></th>\n",
       "      <th>Company ID</th>\n",
       "    </tr>\n",
       "    <tr>\n",
       "      <th>Creative</th>\n",
       "      <th>started_application</th>\n",
       "      <th></th>\n",
       "    </tr>\n",
       "  </thead>\n",
       "  <tbody>\n",
       "    <tr>\n",
       "      <th rowspan=\"2\" valign=\"top\">Alternative Creative</th>\n",
       "      <th>0.0</th>\n",
       "      <td>1915</td>\n",
       "    </tr>\n",
       "    <tr>\n",
       "      <th>1.0</th>\n",
       "      <td>34</td>\n",
       "    </tr>\n",
       "    <tr>\n",
       "      <th rowspan=\"2\" valign=\"top\">Default Creative</th>\n",
       "      <th>0.0</th>\n",
       "      <td>3380</td>\n",
       "    </tr>\n",
       "    <tr>\n",
       "      <th>1.0</th>\n",
       "      <td>75</td>\n",
       "    </tr>\n",
       "  </tbody>\n",
       "</table>\n",
       "</div>"
      ],
      "text/plain": [
       "                                          Company ID\n",
       "Creative             started_application            \n",
       "Alternative Creative 0.0                        1915\n",
       "                     1.0                          34\n",
       "Default Creative     0.0                        3380\n",
       "                     1.0                          75"
      ]
     },
     "execution_count": 6,
     "metadata": {},
     "output_type": "execute_result"
    }
   ],
   "source": [
    "campaign_applications = pd.merge(campaigns,applications, on='Company ID', how = 'outer')\n",
    "\n",
    "#applications with null in Creative should have No Campaign filled\n",
    "campaign_applications=campaign_applications.dropna(subset=['Creative'])\n",
    "\n",
    "# 0 to represent No, 1 to represent Yes\n",
    "campaign_applications['stared_application'] = campaign_applications['started_application'].fillna(0, inplace=True)\n",
    "#campaign_applications = campaign_applications.fillna(0, inplace=True)\n",
    "summary = campaign_applications.groupby(['Creative', 'started_application']).agg({'Company ID':'count'}).reset_index()\n",
    "\n",
    "campaign_applications.groupby(['Creative', 'started_application']).agg({'Company ID':'count'})"
   ]
  },
  {
   "cell_type": "code",
   "execution_count": 39,
   "metadata": {},
   "outputs": [
    {
     "data": {
      "text/html": [
       "<div>\n",
       "<style scoped>\n",
       "    .dataframe tbody tr th:only-of-type {\n",
       "        vertical-align: middle;\n",
       "    }\n",
       "\n",
       "    .dataframe tbody tr th {\n",
       "        vertical-align: top;\n",
       "    }\n",
       "\n",
       "    .dataframe thead th {\n",
       "        text-align: right;\n",
       "    }\n",
       "</style>\n",
       "<table border=\"1\" class=\"dataframe\">\n",
       "  <thead>\n",
       "    <tr style=\"text-align: right;\">\n",
       "      <th></th>\n",
       "      <th>started_application</th>\n",
       "      <th>finished_application</th>\n",
       "      <th>Loan Offer</th>\n",
       "      <th>Loan Accepted</th>\n",
       "      <th>Loan Amount</th>\n",
       "      <th>loan_average</th>\n",
       "    </tr>\n",
       "    <tr>\n",
       "      <th>Creative</th>\n",
       "      <th></th>\n",
       "      <th></th>\n",
       "      <th></th>\n",
       "      <th></th>\n",
       "      <th></th>\n",
       "      <th></th>\n",
       "    </tr>\n",
       "  </thead>\n",
       "  <tbody>\n",
       "    <tr>\n",
       "      <th>Alternative Creative</th>\n",
       "      <td>34.0</td>\n",
       "      <td>20.0</td>\n",
       "      <td>14.0</td>\n",
       "      <td>12.0</td>\n",
       "      <td>1525915.0</td>\n",
       "      <td>108993.928571</td>\n",
       "    </tr>\n",
       "    <tr>\n",
       "      <th>Default Creative</th>\n",
       "      <td>75.0</td>\n",
       "      <td>50.0</td>\n",
       "      <td>38.0</td>\n",
       "      <td>28.0</td>\n",
       "      <td>2473201.0</td>\n",
       "      <td>65084.236842</td>\n",
       "    </tr>\n",
       "  </tbody>\n",
       "</table>\n",
       "</div>"
      ],
      "text/plain": [
       "                      started_application  finished_application  Loan Offer  \\\n",
       "Creative                                                                      \n",
       "Alternative Creative                 34.0                  20.0        14.0   \n",
       "Default Creative                     75.0                  50.0        38.0   \n",
       "\n",
       "                      Loan Accepted  Loan Amount   loan_average  \n",
       "Creative                                                         \n",
       "Alternative Creative           12.0    1525915.0  108993.928571  \n",
       "Default Creative               28.0    2473201.0   65084.236842  "
      ]
     },
     "execution_count": 39,
     "metadata": {},
     "output_type": "execute_result"
    }
   ],
   "source": [
    "summary = campaign_applications.groupby(['Creative']).agg({'started_application':'sum',\n",
    "                                                                  'finished_application':'sum',\n",
    "                                                                'Loan Offer':'sum',\n",
    "                                                 'Loan Accepted':'sum',\n",
    "                                                                  'Loan Amount':'sum'})\n",
    "summary['loan_average'] = summary['Loan Amount']/summary['Loan Offer']\n",
    "summary"
   ]
  },
  {
   "cell_type": "code",
   "execution_count": 7,
   "metadata": {},
   "outputs": [
    {
     "data": {
      "text/html": [
       "<div>\n",
       "<style scoped>\n",
       "    .dataframe tbody tr th:only-of-type {\n",
       "        vertical-align: middle;\n",
       "    }\n",
       "\n",
       "    .dataframe tbody tr th {\n",
       "        vertical-align: top;\n",
       "    }\n",
       "\n",
       "    .dataframe thead th {\n",
       "        text-align: right;\n",
       "    }\n",
       "</style>\n",
       "<table border=\"1\" class=\"dataframe\">\n",
       "  <thead>\n",
       "    <tr style=\"text-align: right;\">\n",
       "      <th></th>\n",
       "      <th>started_application</th>\n",
       "      <th>total</th>\n",
       "      <th>rate</th>\n",
       "      <th>no_application</th>\n",
       "    </tr>\n",
       "    <tr>\n",
       "      <th>Creative</th>\n",
       "      <th></th>\n",
       "      <th></th>\n",
       "      <th></th>\n",
       "      <th></th>\n",
       "    </tr>\n",
       "  </thead>\n",
       "  <tbody>\n",
       "    <tr>\n",
       "      <th>Alternative Creative</th>\n",
       "      <td>34.0</td>\n",
       "      <td>1949.0</td>\n",
       "      <td>0.017445</td>\n",
       "      <td>1915.0</td>\n",
       "    </tr>\n",
       "    <tr>\n",
       "      <th>Default Creative</th>\n",
       "      <td>75.0</td>\n",
       "      <td>3455.0</td>\n",
       "      <td>0.021708</td>\n",
       "      <td>3380.0</td>\n",
       "    </tr>\n",
       "  </tbody>\n",
       "</table>\n",
       "</div>"
      ],
      "text/plain": [
       "                      started_application   total      rate  no_application\n",
       "Creative                                                                   \n",
       "Alternative Creative                 34.0  1949.0  0.017445          1915.0\n",
       "Default Creative                     75.0  3455.0  0.021708          3380.0"
      ]
     },
     "execution_count": 7,
     "metadata": {},
     "output_type": "execute_result"
    }
   ],
   "source": [
    "import numpy as np\n",
    "campaign_summary = campaign_applications.pivot_table(values='started_application', index='Creative', aggfunc=np.sum)\n",
    "campaign_summary['total'] = campaign_applications.pivot_table(values='started_application', index='Creative', aggfunc=lambda x: len(x))\n",
    "campaign_summary['rate'] = campaign_applications.pivot_table(values='started_application', index='Creative')\n",
    "campaign_summary['no_application'] = campaign_summary['total'] - campaign_summary['started_application']\n",
    "\n",
    "# No Creative --> we do not know how many people had the potential to sign up\n",
    "campaign_summary"
   ]
  },
  {
   "cell_type": "markdown",
   "metadata": {},
   "source": [
    "#### Chi Squared test to test for significance of difference\n",
    "\n",
    "H0: There is no difference in conversion rate based on creative used\n",
    "\n",
    "H1: There is a difference in conversion rate of the creatives"
   ]
  },
  {
   "cell_type": "code",
   "execution_count": 8,
   "metadata": {},
   "outputs": [
    {
     "name": "stdout",
     "output_type": "stream",
     "text": [
      "chi squared statistic:0.9401775985197799, p value:0.3322321720491406\n"
     ]
    }
   ],
   "source": [
    "from scipy import stats\n",
    "c, p, df, table = stats.chi2_contingency([campaign_summary['started_application'],\n",
    "                                          campaign_summary['no_application']])\n",
    "print('chi squared statistic:{}, p value:{}'.format(c,p))"
   ]
  },
  {
   "cell_type": "markdown",
   "metadata": {},
   "source": [
    "p<0.05 is the usual test for independence.\n",
    "\n",
    "Given the high p-value obtained, there is no significant difference in the conversion rates of the two campaigns."
   ]
  },
  {
   "cell_type": "code",
   "execution_count": 9,
   "metadata": {},
   "outputs": [
    {
     "data": {
      "text/plain": [
       "<matplotlib.axes._subplots.AxesSubplot at 0x120cc3f98>"
      ]
     },
     "execution_count": 9,
     "metadata": {},
     "output_type": "execute_result"
    }
   ],
   "source": [
    "import seaborn as sns\n",
    "import matplotlib.pyplot as plt\n",
    "\n",
    "daily_sign_up = campaign_applications.groupby(['application_start_date','Creative']).agg({'Company ID':'count'}).reset_index()\n",
    "fig1 = daily_sign_up.boxplot('Company ID', by='Creative')\n",
    "fig1"
   ]
  },
  {
   "cell_type": "code",
   "execution_count": 10,
   "metadata": {},
   "outputs": [
    {
     "data": {
      "text/html": [
       "<div>\n",
       "<style scoped>\n",
       "    .dataframe tbody tr th:only-of-type {\n",
       "        vertical-align: middle;\n",
       "    }\n",
       "\n",
       "    .dataframe tbody tr th {\n",
       "        vertical-align: top;\n",
       "    }\n",
       "\n",
       "    .dataframe thead tr th {\n",
       "        text-align: left;\n",
       "    }\n",
       "\n",
       "    .dataframe thead tr:last-of-type th {\n",
       "        text-align: right;\n",
       "    }\n",
       "</style>\n",
       "<table border=\"1\" class=\"dataframe\">\n",
       "  <thead>\n",
       "    <tr>\n",
       "      <th></th>\n",
       "      <th colspan=\"8\" halign=\"left\">Company ID</th>\n",
       "    </tr>\n",
       "    <tr>\n",
       "      <th></th>\n",
       "      <th>count</th>\n",
       "      <th>mean</th>\n",
       "      <th>std</th>\n",
       "      <th>min</th>\n",
       "      <th>25%</th>\n",
       "      <th>50%</th>\n",
       "      <th>75%</th>\n",
       "      <th>max</th>\n",
       "    </tr>\n",
       "    <tr>\n",
       "      <th>Creative</th>\n",
       "      <th></th>\n",
       "      <th></th>\n",
       "      <th></th>\n",
       "      <th></th>\n",
       "      <th></th>\n",
       "      <th></th>\n",
       "      <th></th>\n",
       "      <th></th>\n",
       "    </tr>\n",
       "  </thead>\n",
       "  <tbody>\n",
       "    <tr>\n",
       "      <th>Alternative Creative</th>\n",
       "      <td>21.0</td>\n",
       "      <td>1.619048</td>\n",
       "      <td>1.283596</td>\n",
       "      <td>1.0</td>\n",
       "      <td>1.0</td>\n",
       "      <td>1.0</td>\n",
       "      <td>2.0</td>\n",
       "      <td>6.0</td>\n",
       "    </tr>\n",
       "    <tr>\n",
       "      <th>Default Creative</th>\n",
       "      <td>42.0</td>\n",
       "      <td>1.785714</td>\n",
       "      <td>1.024950</td>\n",
       "      <td>1.0</td>\n",
       "      <td>1.0</td>\n",
       "      <td>1.0</td>\n",
       "      <td>2.0</td>\n",
       "      <td>5.0</td>\n",
       "    </tr>\n",
       "  </tbody>\n",
       "</table>\n",
       "</div>"
      ],
      "text/plain": [
       "                     Company ID                                             \n",
       "                          count      mean       std  min  25%  50%  75%  max\n",
       "Creative                                                                    \n",
       "Alternative Creative       21.0  1.619048  1.283596  1.0  1.0  1.0  2.0  6.0\n",
       "Default Creative           42.0  1.785714  1.024950  1.0  1.0  1.0  2.0  5.0"
      ]
     },
     "execution_count": 10,
     "metadata": {},
     "output_type": "execute_result"
    }
   ],
   "source": [
    "daily_sign_up\n",
    "\n",
    "#alternative creative data\n",
    "alternative_creative = daily_sign_up.loc[daily_sign_up.Creative== 'Alternative Creative']\n",
    "\n",
    "#only default creative data\n",
    "default = daily_sign_up.where(daily_sign_up.Creative== 'Default Creative').dropna()\n",
    "daily_sign_up.groupby('Creative').describe()"
   ]
  },
  {
   "cell_type": "code",
   "execution_count": 11,
   "metadata": {},
   "outputs": [
    {
     "data": {
      "text/plain": [
       "LeveneResult(statistic=0.31203674705084017, pvalue=0.5784778858712274)"
      ]
     },
     "execution_count": 11,
     "metadata": {},
     "output_type": "execute_result"
    }
   ],
   "source": [
    "stats.levene(alternative_creative['Company ID'], default['Company ID'])"
   ]
  },
  {
   "cell_type": "markdown",
   "metadata": {},
   "source": [
    "The test is not significant meaning there is homogeneity of variances and we can proceed."
   ]
  },
  {
   "cell_type": "code",
   "execution_count": 12,
   "metadata": {},
   "outputs": [
    {
     "data": {
      "text/plain": [
       "((array([-2.21906046, -1.85036834, -1.63307165, -1.47338453, -1.34433269,\n",
       "         -1.23445265, -1.1377432 , -1.05064606, -0.97086677, -0.89683292,\n",
       "         -0.82741562, -0.76177387, -0.69926181, -0.63937059, -0.58169027,\n",
       "         -0.52588404, -0.47167018, -0.41880907, -0.3670937 , -0.31634247,\n",
       "         -0.26639369, -0.2171012 , -0.16833095, -0.11995805, -0.0718644 ,\n",
       "         -0.02393648,  0.02393648,  0.0718644 ,  0.11995805,  0.16833095,\n",
       "          0.2171012 ,  0.26639369,  0.31634247,  0.3670937 ,  0.41880907,\n",
       "          0.47167018,  0.52588404,  0.58169027,  0.63937059,  0.69926181,\n",
       "          0.76177387,  0.82741562,  0.89683292,  0.97086677,  1.05064606,\n",
       "          1.1377432 ,  1.23445265,  1.34433269,  1.47338453,  1.63307165,\n",
       "          1.85036834,  2.21906046]),\n",
       "  array([-6., -4., -3., -2., -1., -1., -1., -1., -1., -1., -1., -1.,  0.,\n",
       "          0.,  0.,  0.,  1.,  1.,  1.,  1.,  1.,  1.,  1.,  1.,  1.,  1.,\n",
       "          1.,  1.,  1.,  1.,  1.,  1.,  1.,  1.,  2.,  2.,  2.,  2.,  2.,\n",
       "          2.,  2.,  2.,  2.,  2.,  2.,  2.,  3.,  3.,  3.,  4.,  4.,  5.])),\n",
       " (1.8780625622801328, 0.7884615384615387, 0.946974238567715))"
      ]
     },
     "execution_count": 12,
     "metadata": {},
     "output_type": "execute_result"
    },
    {
     "data": {
      "image/png": "[encoded data removed]",
      "text/plain": [
       "<Figure size 432x288 with 1 Axes>"
      ]
     },
     "metadata": {
      "needs_background": "light"
     },
     "output_type": "display_data"
    }
   ],
   "source": [
    "daily_summary = daily_sign_up.pivot(index='application_start_date', columns='Creative',\n",
    "                    values = 'Company ID').fillna(0)\n",
    "daily_summary['diff'] = daily_summary['Default Creative'] - daily_summary['Alternative Creative']\n",
    "stats.probplot(daily_summary['diff'], plot= plt)"
   ]
  },
  {
   "cell_type": "code",
   "execution_count": 13,
   "metadata": {},
   "outputs": [
    {
     "name": "stdout",
     "output_type": "stream",
     "text": [
      "W: 0.9088274836540222, p: 0.0007416366133838892\n"
     ]
    }
   ],
   "source": [
    "w, p = stats.shapiro(daily_summary['diff'])\n",
    "print('W: {}, p: {}'.format(w,p))"
   ]
  },
  {
   "cell_type": "markdown",
   "metadata": {},
   "source": [
    "Since the sample p-value is very low, this indicates that it is likely that the sample came from a population without a normal distribution (accept alternative hypothesis)"
   ]
  },
  {
   "cell_type": "code",
   "execution_count": 14,
   "metadata": {},
   "outputs": [
    {
     "data": {
      "image/png": "[encoded data removed]",
      "text/plain": [
       "<Figure size 864x504 with 3 Axes>"
      ]
     },
     "metadata": {
      "needs_background": "light"
     },
     "output_type": "display_data"
    }
   ],
   "source": [
    "fig, ax = plt.subplots(1, 3, sharex='col', sharey='row', figsize=(12,7))\n",
    "ax = ax.ravel() \n",
    "for x in range(3):\n",
    "    ax[x].hist(daily_summary.iloc[:,x])\n",
    "    ax[x].set_title(daily_summary.columns[x])"
   ]
  },
  {
   "cell_type": "markdown",
   "metadata": {},
   "source": [
    "\n",
    "### Wilcoxon test (non parametric equiv for t-test)\n",
    "The distribution of average sign ups per day is not normally distributed so use non-parametric testing - Wilcoxon test instead of T test.\n",
    "\n",
    "H0: There is no difference between the median daily sign up for the creatives used.\n",
    "\n",
    "H1: There is a difference in the median daily sign up for each creative."
   ]
  },
  {
   "cell_type": "code",
   "execution_count": 15,
   "metadata": {},
   "outputs": [
    {
     "data": {
      "text/plain": [
       "WilcoxonResult(statistic=275.5, pvalue=0.0010486871479679805)"
      ]
     },
     "execution_count": 15,
     "metadata": {},
     "output_type": "execute_result"
    }
   ],
   "source": [
    "stats.wilcoxon(daily_summary['diff'])"
   ]
  },
  {
   "cell_type": "markdown",
   "metadata": {},
   "source": [
    "There is a statistically significant difference in the median daily sign ups due to creative type"
   ]
  },
  {
   "cell_type": "code",
   "execution_count": 16,
   "metadata": {},
   "outputs": [
    {
     "data": {
      "text/plain": [
       "WilcoxonResult(statistic=275.5, pvalue=0.0010486871479679805)"
      ]
     },
     "execution_count": 16,
     "metadata": {},
     "output_type": "execute_result"
    }
   ],
   "source": [
    "stats.wilcoxon(daily_summary['Default Creative'], daily_summary['Alternative Creative'])"
   ]
  },
  {
   "cell_type": "markdown",
   "metadata": {},
   "source": [
    "#### Unpaired t-test"
   ]
  },
  {
   "cell_type": "code",
   "execution_count": 17,
   "metadata": {},
   "outputs": [
    {
     "name": "stdout",
     "output_type": "stream",
     "text": [
      "t-value is 0.5586024946693674\n",
      " p-value is 0.578477885871228 \n",
      " degrees of freedom used 61.0\n"
     ]
    }
   ],
   "source": [
    "#H0: There is no difference between number of signups per day and the Creative used in marketing\n",
    "#H1: There is a difference between number of signups per day and the Creatuve used in marketing\n",
    "\n",
    "import statsmodels.api as sm\n",
    "from statsmodels.stats.weightstats import ttest_ind\n",
    "\n",
    "t,p, DF = ttest_ind(default['Company ID'], alternative_creative['Company ID'])\n",
    "print('t-value is {}\\n p-value is {} \\n degrees of freedom used {}'.format(t,p,DF))"
   ]
  },
  {
   "cell_type": "markdown",
   "metadata": {},
   "source": [
    "The p-value, probablity of observing such an extreme value by chance, is not significant at the 0.1, 0.05 or 0.01 level. We have failed to reject the null hypothesis, there is no significant difference in the daily number of signups and the Creative used for email marketing."
   ]
  },
  {
   "cell_type": "markdown",
   "metadata": {},
   "source": [
    "### Testing wether the advertising campaign had any effect on the people who have already applied for a loan and those who have not\n",
    "\n",
    "Looking at the number of people in the campaigns population who have applied already and applied already, there is a large proportion of people who had already started an application, especially within the Alternative Creative group. Due to small number of people, testing for significance on probability of campaign causing customers to finish their application"
   ]
  },
  {
   "cell_type": "code",
   "execution_count": 18,
   "metadata": {},
   "outputs": [
    {
     "name": "stderr",
     "output_type": "stream",
     "text": [
      "/Users/Xinny/PycharmProjects/funding_circle_analysis/venv/lib/python3.6/site-packages/ipykernel_launcher.py:10: SettingWithCopyWarning: \n",
      "A value is trying to be set on a copy of a slice from a DataFrame.\n",
      "Try using .loc[row_indexer,col_indexer] = value instead\n",
      "\n",
      "See the caveats in the documentation: http://pandas.pydata.org/pandas-docs/stable/user_guide/indexing.html#returning-a-view-versus-a-copy\n",
      "  # Remove the CWD from sys.path while we load stuff.\n"
     ]
    },
    {
     "data": {
      "text/html": [
       "<div>\n",
       "<style scoped>\n",
       "    .dataframe tbody tr th:only-of-type {\n",
       "        vertical-align: middle;\n",
       "    }\n",
       "\n",
       "    .dataframe tbody tr th {\n",
       "        vertical-align: top;\n",
       "    }\n",
       "\n",
       "    .dataframe thead th {\n",
       "        text-align: right;\n",
       "    }\n",
       "</style>\n",
       "<table border=\"1\" class=\"dataframe\">\n",
       "  <thead>\n",
       "    <tr style=\"text-align: right;\">\n",
       "      <th>Creative</th>\n",
       "      <th>Alternative Creative</th>\n",
       "      <th>Default Creative</th>\n",
       "    </tr>\n",
       "    <tr>\n",
       "      <th>already_applied</th>\n",
       "      <th></th>\n",
       "      <th></th>\n",
       "    </tr>\n",
       "  </thead>\n",
       "  <tbody>\n",
       "    <tr>\n",
       "      <th>0</th>\n",
       "      <td>28</td>\n",
       "      <td>68</td>\n",
       "    </tr>\n",
       "    <tr>\n",
       "      <th>1</th>\n",
       "      <td>6</td>\n",
       "      <td>7</td>\n",
       "    </tr>\n",
       "  </tbody>\n",
       "</table>\n",
       "</div>"
      ],
      "text/plain": [
       "Creative         Alternative Creative  Default Creative\n",
       "already_applied                                        \n",
       "0                                  28                68\n",
       "1                                   6                 7"
      ]
     },
     "execution_count": 18,
     "metadata": {},
     "output_type": "execute_result"
    }
   ],
   "source": [
    "def f(row):\n",
    "    if row['application_start_date'] >= row['Email Sent Date']:\n",
    "        val = 0\n",
    "    elif row['application_start_date'] < row['Email Sent Date']:\n",
    "        val = 1\n",
    "    else:\n",
    "        val =2\n",
    "    return val\n",
    "ca_2 = campaign_applications.dropna(subset=['application_start_date'])\n",
    "ca_2['already_applied'] = ca_2.apply(f, axis=1)\n",
    "ca_2_summary = ca_2.groupby(['Creative', 'already_applied']).agg({'Company ID':'count'}).reset_index()\n",
    "ca_2_summary.pivot(index='already_applied', columns='Creative', values='Company ID')"
   ]
  }
 ],
 "metadata": {
  "kernelspec": {
   "display_name": "Python 3",
   "language": "python",
   "name": "python3"
  },
  "language_info": {
   "codemirror_mode": {
    "name": "ipython",
    "version": 3
   },
   "file_extension": ".py",
   "mimetype": "text/x-python",
   "name": "python",
   "nbconvert_exporter": "python",
   "pygments_lexer": "ipython3",
   "version": "3.6.1"
  }
 },
 "nbformat": 4,
 "nbformat_minor": 2
}
